{
  "nbformat": 4,
  "nbformat_minor": 2,
  "cells": [
    {
      "cell_type": "code",
      "execution_count": null,
      "outputs": [],
      "metadata": {},
      "source": [
        "from pyspark.sql import SparkSession\n",
        "from pyspark.sql.functions import lit, when\n",
        "from datetime import datetime\n",
        "import random\n",
        "\n",
        "spark = SparkSession.builder.getOrCreate()\n",
        "\n",
        "data = []\n",
        "customers = [\"Valerie Gray\", \"James Miller\", \"Ava Patel\", \"Olivia Clark\"]\n",
        "regions = [\"North\", \"South\", \"East\", \"West\"]\n",
        "products = [\"Monitor\", \"Smartphone\", \"Tablet\"]\n",
        "categories = [\"Accessories\", \"Electronics\"]\n",
        "\n",
        "for i in range(150):  # 150 rows\n",
        "    product = random.choice(products)\n",
        "    row = {\n",
        "        \"OrderID\": f\"GEN{1000 + i}\",\n",
        "        \"OrderDate\": datetime.now().strftime(\"%-m/%-d/%Y\"),\n",
        "        \"CustomerName\": random.choice(customers) if random.random() > 0.1 else None,\n",
        "        \"Region\": random.choice(regions),\n",
        "        \"Product\": product,\n",
        "        \"Category\": random.choice(categories),\n",
        "        \"Quantity\": random.randint(1, 5),\n",
        "        \"UnitPrice\": random.choice([689.7, 984.96, 499.99]),\n",
        "    }\n",
        "    row[\"Amount\"] = round(row[\"Quantity\"] * row[\"UnitPrice\"], 2) if row[\"CustomerName\"] else None\n",
        "    data.append(row)\n",
        "\n",
        "df = spark.createDataFrame(data)\n",
        "\n",
        "# Save to raw container\n",
        "output_path = f\"abfss://raw-data@datapipelineprojectsa123.dfs.core.windows.net/generated_sales_{datetime.now().strftime('%Y%m%d_%H%M%S')}.csv\"\n",
        "df.write.mode(\"overwrite\").option(\"header\", True).csv(output_path)\n",
        "\n",
        "print(f\"✅ Synthetic sales file written to: {output_path}\")\n",
        ""
      ]
    }
  ],
  "metadata": {
    "description": null,
    "save_output": true,
    "language_info": {
      "name": "python"
    }
  }
}